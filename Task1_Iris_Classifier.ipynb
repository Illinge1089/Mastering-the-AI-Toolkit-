{
 "cells": [
  {
   "cell_type": "markdown",
   "id": "82033db3",
   "metadata": {},
   "source": [
    "# Task 1: Classical ML with Scikit-learn - Iris Dataset\n",
    "**Goal**: Preprocess the data, train a decision tree classifier, and evaluate its performance.\n",
    "\n",
    "**Steps**:\n",
    "- Load and clean the data\n",
    "- Encode labels\n",
    "- Handle missing values\n",
    "- Train model\n",
    "- Evaluate using accuracy, precision, and recall"
   ]
  },
  {
   "cell_type": "code",
   "execution_count": null,
   "id": "82941adc",
   "metadata": {},
   "outputs": [],
   "source": [
    "import pandas as pd\n",
    "from sklearn.model_selection import train_test_split\n",
    "from sklearn.tree import DecisionTreeClassifier\n",
    "from sklearn.preprocessing import LabelEncoder\n",
    "from sklearn.metrics import accuracy_score, precision_score, recall_score\n",
    "from sklearn.impute import SimpleImputer\n",
    "\n",
    "# Load dataset\n",
    "iris_df = pd.read_csv(\"iris_dataset.csv\")\n",
    "iris_df.head()"
   ]
  },
  {
   "cell_type": "code",
   "execution_count": null,
   "id": "c2806f16",
   "metadata": {},
   "outputs": [],
   "source": [
    "# Drop Id column and prepare features and target\n",
    "iris_df_clean = iris_df.drop(columns=['Id'])\n",
    "\n",
    "# Encode the target labels\n",
    "le = LabelEncoder()\n",
    "iris_df_clean['Species'] = le.fit_transform(iris_df_clean['Species'])\n",
    "\n",
    "# Handle missing values (if any)\n",
    "imputer = SimpleImputer(strategy='mean')\n",
    "features = iris_df_clean.drop('Species', axis=1)\n",
    "features_imputed = imputer.fit_transform(features)\n",
    "\n",
    "X = features_imputed\n",
    "y = iris_df_clean['Species']\n",
    "\n",
    "# Split into training and test sets\n",
    "X_train, X_test, y_train, y_test = train_test_split(X, y, test_size=0.2, random_state=42)"
   ]
  },
  {
   "cell_type": "code",
   "execution_count": null,
   "id": "ae6ef84f",
   "metadata": {},
   "outputs": [],
   "source": [
    "# Train the Decision Tree Classifier\n",
    "clf = DecisionTreeClassifier(random_state=42)\n",
    "clf.fit(X_train, y_train)\n",
    "\n",
    "# Predict on test set\n",
    "y_pred = clf.predict(X_test)\n",
    "\n",
    "# Evaluate the model\n",
    "accuracy = accuracy_score(y_test, y_pred)\n",
    "precision = precision_score(y_test, y_pred, average='weighted')\n",
    "recall = recall_score(y_test, y_pred, average='weighted')\n",
    "\n",
    "print(f\"Accuracy: {accuracy:.2f}\")\n",
    "print(f\"Precision: {precision:.2f}\")\n",
    "print(f\"Recall: {recall:.2f}\")"
   ]
  }
 ],
 "metadata": {},
 "nbformat": 4,
 "nbformat_minor": 5
}